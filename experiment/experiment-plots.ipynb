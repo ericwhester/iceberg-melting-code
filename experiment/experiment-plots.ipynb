{
 "cells": [
  {
   "cell_type": "markdown",
   "metadata": {},
   "source": [
    "# Iceberg experiment analysis script"
   ]
  },
  {
   "cell_type": "code",
   "execution_count": null,
   "metadata": {},
   "outputs": [],
   "source": [
    "import numpy as np\n",
    "import pandas as pd\n",
    "import h5py\n",
    "import matplotlib.pyplot as plt\n",
    "%config InlineBackend.figure_format='retina'"
   ]
  },
  {
   "cell_type": "markdown",
   "metadata": {},
   "source": [
    "# Average melting calculations and plots"
   ]
  },
  {
   "cell_type": "code",
   "execution_count": null,
   "metadata": {},
   "outputs": [],
   "source": [
    "longname={'U':'Flow speed U [cm/s]',\n",
    "          't':'Duration [min]',\n",
    "          'M0':'Mass initial M0 [g]',\n",
    "          'M1': 'Mass final M1 [g]',\n",
    "          'L0': 'Length initial L0 [cm]',\n",
    "          'W0':'Width initial W0 [cm]',\n",
    "          'D0':'Depth initial D0 [cm]',\n",
    "          'dxf':'Front melt [cm]',\n",
    "          'dxb':'Rear melt [cm]',\n",
    "          'dy':'Side melt [cm]',\n",
    "          'dz':'Basal melt [cm]',\n",
    "          'T':'Temperature T [C]',}\n",
    "data = pd.read_csv('experiment-data.csv')\n",
    "shortname={value:key for key,value in longname.items()}\n",
    "data = data.rename(columns=shortname)"
   ]
  },
  {
   "cell_type": "markdown",
   "metadata": {},
   "source": [
    "## Average side-dependent melt rates"
   ]
  },
  {
   "cell_type": "code",
   "execution_count": null,
   "metadata": {},
   "outputs": [],
   "source": [
    "data['uf'] = data['dxf']/data['t']\n",
    "data['ub'] = data['dxb']/data['t']\n",
    "data['v'] = data['dy']/data['t']\n",
    "data['w'] = data['dz']/data['t']"
   ]
  },
  {
   "cell_type": "code",
   "execution_count": null,
   "metadata": {},
   "outputs": [],
   "source": [
    "averages = {}\n",
    "stds = {}\n",
    "for vel in [0,1.5,3.5]:\n",
    "    averages[vel] = {}\n",
    "    stds[vel] = {}\n",
    "    for melt_rate in ['uf','ub','v','w']:\n",
    "        melt_rates = data[melt_rate][data['U'] == vel]\n",
    "        averages[vel][melt_rate] = melt_rates.mean()\n",
    "        stds[vel][melt_rate] = melt_rates.std()"
   ]
  },
  {
   "cell_type": "code",
   "execution_count": null,
   "metadata": {},
   "outputs": [],
   "source": [
    "np.array([[averages[vel][face] for face in ['uf','v','ub','w']] for vel in [3.5,1.5,0]])"
   ]
  },
  {
   "cell_type": "code",
   "execution_count": null,
   "metadata": {},
   "outputs": [],
   "source": [
    "# Uncertainty defined to be twice standard deviation\n",
    "np.array([[2*stds[vel][face] for face in ['uf','v','ub','w']] for vel in [3.5,1.5,0]])"
   ]
  },
  {
   "cell_type": "code",
   "execution_count": null,
   "metadata": {},
   "outputs": [],
   "source": [
    "for melt_rate in ['uf','ub','v','w']:\n",
    "    data[f'{melt_rate} avg'] = [averages[U][melt_rate] for U in data['U'].values]\n",
    "    data[f'{melt_rate} std'] = [stds[U][melt_rate] for U in data['U'].values]"
   ]
  },
  {
   "cell_type": "markdown",
   "metadata": {
    "heading_collapsed": true
   },
   "source": [
    "## Volume loss error calculation"
   ]
  },
  {
   "cell_type": "code",
   "execution_count": null,
   "metadata": {
    "hidden": true
   },
   "outputs": [],
   "source": [
    "M0, M1 = data['M0'], data['M1']\n",
    "ρi = .9167\n",
    "data['ΔV'] = (M0 - M1)/ρi\n",
    "L,W,D,uf,ub,v,w,t = [data[field] for field in ['L0','W0','D0','uf','ub','v','w','t']]\n",
    "uf_avg, ub_avg, v_avg, w_avg, uf_std, ub_std, v_std, w_std = [data[field] for field in ['uf avg','ub avg','v avg','w avg','uf std','ub std','v std','w std']]\n",
    "uf_std = 2*uf_std.copy()\n",
    "ub_std = 2*ub_std.copy()\n",
    "v_std = 2*v_std.copy()\n",
    "w_std = 2*w_std.copy()\n",
    "data['ΔV_photo'] = L*W*D - (L-(uf+ub)*t)*(W-2*v*t)*(D-w*t)\n",
    "data['ΔV_avg'] = L*W*D - (L-(uf_avg+ub_avg)*t)*(W-2*v_avg*t)*(D-w_avg*t)\n",
    "dV_high = L*W*D - (L-(uf_avg+ub_avg - uf_std-ub_std)*t)*(W-(2*(v_avg-v_std)))*(D-(w_avg-w_std))\n",
    "dV_low  = L*W*D - (L-(uf_avg+ub_avg + uf_std+ub_std)*t)*(W-(2*(v_avg+v_std)))*(D-(w_avg+w_std))\n",
    "ddV = dV_high - dV_low"
   ]
  },
  {
   "cell_type": "markdown",
   "metadata": {
    "heading_collapsed": true
   },
   "source": [
    "## Melt rate scatter plots and volume loss error plot"
   ]
  },
  {
   "cell_type": "code",
   "execution_count": null,
   "metadata": {
    "hidden": true
   },
   "outputs": [],
   "source": [
    "vel_colors = {0:'C0',1.5:'C2',3.5:'C3'}\n",
    "facecolors = {'uf':'orange','ub':'brown','v':'purple','w':'k'}\n",
    "vfaces = ['uf','ub','v','w']\n",
    "markers = {'uf':'<','ub':'>','v':'o','w':'v'}\n",
    "save_faces = {'uf':'dx f ','ub':'dx b ','v':'dy ','w':'dz '}\n",
    "frac = {'uf':1,'ub':1,'v':1,'w':1}\n",
    "labels = {'uf':'Front melt rate $v_f$','ub':'Rear melt rate $v_r$','v':'Side melt rate $v_s$','w':'Basal melt rate $v_b$'}\n",
    "\n",
    "fig, ax = plt.subplots(1,4,figsize=(10,2.7))#,gridspec_kw={'wspace':.55})\n",
    "upper = 1700\n",
    "ax[3].plot([0,upper],[0,upper],'k--')\n",
    "for i,speed in enumerate([3.5,1.5,0]):\n",
    "    U = data['U']\n",
    "    aspect = (L/D)[U==speed]\n",
    "    for jf, face in enumerate(['uf','ub','v','w']):\n",
    "        ones = np.ones_like(aspect)\n",
    "        avg = averages[speed][face]\n",
    "        std = stds[speed][face]\n",
    "        ax[i].scatter(aspect, data[face][U==speed],color=facecolors[face],marker=markers[face],label=labels[face],zorder=10-jf)\n",
    "        ax[i].plot(np.linspace(0,15,len(ones)),avg*ones,'-',color=facecolors[face],linewidth=2)\n",
    "        ax[i].fill_between(np.linspace(0,15,len(ones)),avg*ones-2*std,avg*ones+2*std,color=facecolors[face],alpha=.2)\n",
    "    ax[3].scatter(data['ΔV'][U==speed],\n",
    "                   data['ΔV_avg'][U==speed],\n",
    "                   s=20,\n",
    "                   color=vel_colors[speed],\n",
    "                   label=f'${speed:.1f}$ cm/s')\n",
    "    ax[3].errorbar(data['ΔV'][U==speed],\n",
    "                   data['ΔV_avg'][U==speed],\n",
    "                   fmt='',\n",
    "                   ls='none',\n",
    "                   markersize=10,\n",
    "                   yerr=ddV[U==speed], \n",
    "                   color=vel_colors[speed])\n",
    "\n",
    "ax[0].set(xlim=[2,13],ylim=[0,.5],title='$U = 3.5$ cm s$^{-1}$',xlabel='Aspect ratio $L/D$',ylabel='Melt rate cm min$^{-1}$')\n",
    "ax[1].set(xlim=[2,13],ylim=[0,.5],title='$U = 1.5$ cm s$^{-1}$',xlabel='Aspect ratio $L/D$',ylabel='Melt rate cm min$^{-1}$')\n",
    "ax[2].set(xlim=[2,13],ylim=[0,.5],title='$U = 0.0$ cm s$^{-1}$',xlabel='Aspect ratio $L/D$',ylabel='Melt rate cm min$^{-1}$')\n",
    "ax[2].legend(frameon=False,fontsize=9,borderaxespad=0,loc='upper left')\n",
    "ax[3].legend(frameon=False,fontsize=9,borderaxespad=0,loc='lower right')\n",
    "ax[3].set(xlim=[0,upper],ylim=[0,upper],yticks=[0,500,1000,1500],title='Volume loss estimate',\n",
    "          xlabel='Actual $\\Delta V$ cm$^3$',ylabel='Estimated $\\Delta V$ cm$^3$')\n",
    "plt.tight_layout()\n",
    "plt.savefig('experiment-melt-rates-and-errors.pdf',bbox_inches='tight')"
   ]
  },
  {
   "cell_type": "markdown",
   "metadata": {},
   "source": [
    "## WC model estimates"
   ]
  },
  {
   "cell_type": "code",
   "execution_count": null,
   "metadata": {},
   "outputs": [],
   "source": [
    "ρ_i = 0.9167 # g/cm^3\n",
    "ρ_w = 1.021 # g/cm^3\n",
    "T_i = 0 # C\n",
    "T_w = 20 # C\n",
    "L_i = np.array([10,32.5])[None,:] # cm\n",
    "U_w = np.array([3.5,1.5,0])[:,None] # cm/s\n",
    "ν = 1.004e-2#1.002e-2 # cm^2/s (at 20 C)\n",
    "κ = 1.42e-3 # cm^2/s (at 20 c)\n",
    "c_p = 4.182 # J/(gC)\n",
    "Λ = 3.34e2 # J/g\n",
    "coeff = 0.037*(ρ_w/ρ_i)*(ν**(-7/15))*(κ**(2/3))*c_p/Λ\n",
    "#coeff = 0.75 * (0.15*10/(0.75*2.5**(0.8)*35)) #* 100**(0.4) # cm^0.4 s^-0.2 From FitzMaurice et al. 2017\n",
    "melt_rates = coeff*(U_w**.8)*(T_w-T_i)/(L_i**0.2) # cm/s\n",
    "melt_rates *= 60 # cm/min\n",
    "melt_rates\n",
    "# coeff"
   ]
  },
  {
   "cell_type": "markdown",
   "metadata": {},
   "source": [
    "## Holland & Jenkins model estimates"
   ]
  },
  {
   "cell_type": "markdown",
   "metadata": {},
   "source": [
    "\\begin{align}\n",
    "v\\frac{\\rho_i}{\\rho_w}\\frac{\\Lambda + c_i (T_b - T_i)}{c_w} - C_d^{1/2} U \\Gamma^T (T_w - T_b) &= 0\\\\\n",
    "v \\frac{\\rho_i}{\\rho_w} C_b - C_d^{1/2} U \\Gamma^C (C_w - C_b) &= 0\\\\\n",
    "T_b - \\lambda_1 C_b + \\lambda_2 &= 0\n",
    "\\end{align}"
   ]
  },
  {
   "cell_type": "code",
   "execution_count": null,
   "metadata": {},
   "outputs": [],
   "source": [
    "ρ_i = 0.9167 # g/cm^3\n",
    "ρ_w = 1.021 # g/cm^3\n",
    "T_i = -15 # C\n",
    "T_w = 20 # C\n",
    "C_w = 30 # g/kg\n",
    "L_i = np.array([10,32.5])[None,:] # cm\n",
    "U_w = np.array([3.5,1.5,0])[:,None] # cm/s\n",
    "ν = 1.004e-2#1.002e-2 # cm^2/s (at 20 C)\n",
    "κ = 1.42e-3 # cm^2/s (at 20 c)\n",
    "c_pw = 4.182 # J/(gC) water heat capacity\n",
    "c_pi = 2.108 # J/(gC) ice \"\"\n",
    "Λ = 3.34e2 # J/g\n",
    "Cd = 0.0097 # Dimensionless drag coefficient, table 2 Jenkins et al. \"Observation and Parameterization of Ablation at the Base of Ronne Ice Shelf, Antarctica\" 2010\n",
    "ΓT = 0.011\n",
    "ΓC = 3.1e-4\n",
    "λ1 = -0.057 # C kg / g\n",
    "λ2 = 0.083 # C\n",
    "v0 = 0.1/60 # cm/s -- same as U\n",
    "C_b0 = C_w\n",
    "T_b0 = λ1*C_b0 + λ2\n"
   ]
  },
  {
   "cell_type": "code",
   "execution_count": null,
   "metadata": {},
   "outputs": [],
   "source": [
    "from scipy.optimize import newton\n",
    "from scipy.optimize import fsolve\n",
    "def HJ_residual(guess,U):\n",
    "    v,T_b,C_b = guess\n",
    "    return np.array([v*(ρ_i/ρ_w)*((Λ + c_pi*(T_b-T_i))/c_pw) - Cd**(1/2)*U*ΓT*(T_w-T_b),\n",
    "                     v*(ρ_i/ρ_w)*C_b - Cd**(1/2)*U*ΓC*(C_w - C_b),\n",
    "                     T_b - λ1*C_b - λ2])"
   ]
  },
  {
   "cell_type": "code",
   "execution_count": null,
   "metadata": {},
   "outputs": [],
   "source": [
    "v, T_b, C_b = fsolve(HJ_residual,\n",
    "       [v0,T_b0,C_b0],\n",
    "       args=(1.5,))\n",
    "print('v {:.3f}, T_b {:.2f}, C_b {:.2f}'.format(v*60,T_b,C_b))"
   ]
  },
  {
   "cell_type": "markdown",
   "metadata": {},
   "source": [
    "# Melting profile calculations"
   ]
  },
  {
   "cell_type": "code",
   "execution_count": null,
   "metadata": {},
   "outputs": [],
   "source": [
    "import file_tools as flt\n",
    "from scipy.interpolate import interp1d\n",
    "new_file = 'image_analysis.h5'"
   ]
  },
  {
   "cell_type": "code",
   "execution_count": null,
   "metadata": {},
   "outputs": [],
   "source": [
    "# Let's make a plot of the left profiles first"
   ]
  },
  {
   "cell_type": "code",
   "execution_count": null,
   "metadata": {},
   "outputs": [],
   "source": [
    "def depth_profile(im_data,exp):\n",
    "    # take in picture profiles in pixels, and spline of left/right average depth in cm\n",
    "    expstr = f'{exp:0>2d}'\n",
    "    ratiol = np.asscalar(im_data[f'{expstr}/l/dims/cm_pix'][...])\n",
    "    ratior = np.asscalar(im_data[f'{expstr}/r/dims/cm_pix'][...])\n",
    "\n",
    "    xl = im_data[expstr]['l']['dims']['x'][...]\n",
    "    xr = im_data[expstr]['r']['dims']['x'][...]\n",
    "    topl = im_data[expstr]['l']['dims']['t'][...]\n",
    "    topr = im_data[expstr]['r']['dims']['t'][...][::-1]\n",
    "    depthl = im_data[expstr]['l']['dims']['bottom'][...]\n",
    "    depthr = im_data[expstr]['r']['dims']['bottom'][...][::-1]\n",
    "    x0l = np.where(np.isfinite(depthl))[0][0]\n",
    "    x0r = np.where(np.isfinite(depthr))[0][0]\n",
    "\n",
    "    Xl = ratiol*(xl - x0l)[xl >= x0l]\n",
    "    Xr = ratior*(xr - x0r)[xr >= x0r]\n",
    "    Bottoml = ratiol*(depthl - topl)[xl >= x0l]\n",
    "    Bottomr = ratior*(depthr - topr)[xr >= x0r]\n",
    "    Bottoml[np.isnan(Bottoml)] = 0\n",
    "    Bottoml[Bottoml < 0] = 0\n",
    "    Bottomr[np.isnan(Bottomr)] = 0\n",
    "    Bottomr[Bottomr < 0] = 0\n",
    "\n",
    "    Bottomlf = interp1d(Xl, Bottoml)\n",
    "    Bottomrf = interp1d(Xr, Bottomr)\n",
    "    h0 = data.iloc[exp]['D0']\n",
    "\n",
    "    X = np.arange(0, min(Xl[-1],Xr[-1]), .01)\n",
    "    Bottom_avg = np.mean([Bottomlf(X), Bottomrf(X)], axis=0)\n",
    "\n",
    "    return X, h0 - Bottom_avg"
   ]
  },
  {
   "cell_type": "code",
   "execution_count": null,
   "metadata": {},
   "outputs": [],
   "source": [
    "cutoffs = {0:[0.01,1,2, 8, 13, 21, 30.5],\n",
    "           1.5:[0.01,1.5,3.5, 8, 12.5, 19, 24, 31],\n",
    "           3.5:[0.01,3,5.5, 7.5, 12.5, 19, 24, 31]}\n",
    "\n",
    "xs = {}\n",
    "bottoms = {}\n",
    "avgs = {}\n",
    "\n",
    "for i, U in enumerate([3.5,1.5,0]):\n",
    "    xs[U], bottoms[U] = {},{}\n",
    "    avgs[U] = {k:[] for k in range(len(cutoffs[U])-1)}\n",
    "    for j, exp in enumerate(data[data['U'] == U].index.values):\n",
    "        expstr = f'{exp:0>2d}'\n",
    "        with h5py.File(new_file,'r') as im_data:\n",
    "            if exp != 9:\n",
    "                x, bottom = xs[U][j], bottoms[U][j] = depth_profile(im_data,exp)\n",
    "    \n",
    "    # calculating average between different profiles\n",
    "    for j in bottoms[U]:\n",
    "        x, bottom = xs[U][j], bottoms[U][j]\n",
    "        for k, cutoff in enumerate(cutoffs[U][1:]):\n",
    "            amask = (x>cutoffs[U][k])&(x<=cutoff)\n",
    "            if x[-1] > cutoff:\n",
    "                avgs[U][k] += [bottom[amask]]\n",
    "    for k in range(len(cutoffs[U])-1): \n",
    "        avgs[U][k] = np.mean(avgs[U][k], axis=0)\n",
    "    avgs[U] = np.concatenate([avgs[U][k] for k in avgs[U]],)"
   ]
  },
  {
   "cell_type": "markdown",
   "metadata": {},
   "source": [
    "## Melting profile plots"
   ]
  },
  {
   "cell_type": "code",
   "execution_count": null,
   "metadata": {},
   "outputs": [],
   "source": [
    "def colorfunc(length):\n",
    "    rescale = .3 + (.9 - .3)* (33 - length)/(33-10)# 10 -> .9, 33 -> .3\n",
    "    return plt.cm.viridis(rescale)"
   ]
  },
  {
   "cell_type": "code",
   "execution_count": null,
   "metadata": {},
   "outputs": [],
   "source": [
    "import matplotlib.patches as patches"
   ]
  },
  {
   "cell_type": "code",
   "execution_count": null,
   "metadata": {},
   "outputs": [],
   "source": [
    "# plotting\n",
    "axcs = {}\n",
    "fig, ax = plt.subplots(3,1,figsize=(10,2.8),gridspec_kw={'hspace':0},sharey=False)\n",
    "for i, U in enumerate([3.5,1.5,0]):\n",
    "    colors = plt.cm.viridis(np.linspace(.9,.3,len(xs[U])))\n",
    "    for ji, j in enumerate(xs[U].keys()):\n",
    "        x, bottom = xs[U][j], bottoms[U][j]\n",
    "        plot = ax[i].plot(x, bottom, linewidth=1, color=colorfunc(x[-1]),label='Experiment'*(ji==(len(xs[U])-1)))\n",
    "    x_av = np.arange(cutoffs[U][0],cutoffs[U][-1],0.01)\n",
    "    uf, ub, w = averages[U]['uf'], averages[U]['ub'], averages[U]['w']\n",
    "    duf, dub, dw = 2*stds[U]['uf'], 2*stds[U]['ub'], 2*stds[U]['w']\n",
    "    u_wc = melt_rates[i].mean()\n",
    "\n",
    "    rectav = patches.Rectangle(((uf)*10, (w)*10), 32.5-10*(uf+ub), 3.3-10*(w),linewidth=1.5,\n",
    "                               edgecolor='k',facecolor='none',alpha=1,zorder=3,label='Average')\n",
    "    ax[i].add_patch(rectav)\n",
    "    rect1 = patches.Rectangle(((uf-duf)*10, (w-dw)*10), 32.5-10*(uf+ub-duf-dub), 3.3-10*(w-dw),\n",
    "                              linewidth=1,edgecolor='none',facecolor='k',alpha=0.3,zorder=-10)\n",
    "    ax[i].add_patch(rect1)\n",
    "    rect2 = patches.Rectangle(((uf+duf)*10, (w+dw)*10), 32.5-10*(uf+ub+duf+dub), 3.3-10*(w+dw),\n",
    "                              linewidth=1,edgecolor='none',facecolor='white',alpha=1,zorder=-5)\n",
    "    ax[i].add_patch(rect2)\n",
    "    rectWC = patches.Rectangle(((u_wc)*10, (u_wc)*10), 32.5-10*(2*u_wc), 3.3-10*(u_wc),\n",
    "                               linewidth=1,edgecolor='red',facecolor='none',alpha=1,zorder=3,label='WC model')\n",
    "    ax[i].add_patch(rectWC)\n",
    "    \n",
    "    ax[i].set(xlim=[0,32.5],ylim=[0,3],aspect=1)\n",
    "    ax[i].annotate(f'$U = {U:.1f}$\\n cm s$^{{-1}}$',(1.05,0.2),xycoords='axes fraction',horizontalalignment='right',rotation=-90)\n",
    "ax[0].set(title='Final side profiles cm',xticks=[],yticks=[0,1,2,3])\n",
    "ax[1].set(ylabel='Depth $z$ cm',xticks=[],yticks=[0,1,2])\n",
    "ax[2].set(xlabel='Length $x$ cm',yticks=[0,1,2])\n",
    "ax[2].legend(loc='lower left',bbox_to_anchor=(.82,0.33),borderaxespad=0,frameon=False,fontsize=7)\n",
    "plt.savefig('experiment-profiles-averages.pdf',bbox_inches='tight')"
   ]
  },
  {
   "cell_type": "markdown",
   "metadata": {},
   "source": [
    "# Experimental time series"
   ]
  },
  {
   "cell_type": "code",
   "execution_count": null,
   "metadata": {},
   "outputs": [],
   "source": [
    "import glob\n",
    "from PIL import Image\n",
    "\n",
    "exps = ['fast-long','fast-short','slow-long','no-long']\n",
    "\n",
    "images = {exp:sorted(glob.glob(f'snapshots/{exp}/*')) for exp in exps}\n",
    "\n",
    "slices = {'fast-long':np.s_[125:300,:],\n",
    "          'fast-short':np.s_[280:430,450:900],\n",
    "          'slow-long':np.s_[50:50+150,:],\n",
    "          'no-long':np.s_[10:,55:-55],}\n",
    "\n",
    "imgs = {}\n",
    "for exp in exps:\n",
    "    imgs[exp] = {}\n",
    "    for i, image in enumerate(images[exp]):\n",
    "        imgs[exp][i] = np.array(Image.open(image))[slices[exp]]\n",
    "aspect_ratios = {}\n",
    "for exp in exps:\n",
    "    start_img = imgs[exp][0]\n",
    "    h, w, _ = shape = start_img.shape\n",
    "    aspect_ratios[exp] = w/h"
   ]
  },
  {
   "cell_type": "markdown",
   "metadata": {},
   "source": [
    "## Fast experiments"
   ]
  },
  {
   "cell_type": "code",
   "execution_count": null,
   "metadata": {},
   "outputs": [],
   "source": [
    "fig, ax = plt.subplots(5,2,figsize=(7.3,3.5),\n",
    "            gridspec_kw={'width_ratios':[aspect_ratios['fast-short'],aspect_ratios['fast-long']],'hspace':0,'wspace':0.01})\n",
    "ax_outer = fig.add_subplot(frameon=False)\n",
    "ax_outer.set(xticks=[],yticks=[],title='Time series $U=3.5$ cm s$^{-1}$')\n",
    "for i, exp in enumerate(['fast-short','fast-long']):\n",
    "    for j in imgs[exp]:\n",
    "        ax[j,i].imshow(imgs[exp][j])\n",
    "        ax[j,i].set(xticks=[],yticks=[])\n",
    "ax[4,0].set(xlabel='$L = 10$ cm')\n",
    "ax[4,1].set(xlabel='$L = 32.5$ cm')\n",
    "for j in range(5): ax[j,0].set(ylabel=f'{2*j} min')\n",
    "plt.savefig('fast-time-series.png',dpi=500,bbox_inches='tight')"
   ]
  },
  {
   "cell_type": "code",
   "execution_count": null,
   "metadata": {},
   "outputs": [],
   "source": [
    "fig, ax = plt.subplots(5,2,figsize=(8,3),gridspec_kw={\n",
    "    'width_ratios':[aspect_ratios['slow-long'],aspect_ratios['no-long']],'hspace':0,'wspace':0.03})\n",
    "for i, exp in enumerate(['slow-long','no-long']):\n",
    "    for j in imgs[exp]:\n",
    "        ax[j,i].imshow(imgs[exp][j])\n",
    "        ax[j,i].set(xticks=[],yticks=[])\n",
    "ax[0,0].set(title='Time series $U = 1.5$ cm s$^{-1}$')\n",
    "ax[0,1].set(title='Time series $U = 0.0$ cm s$^{-1}$')\n",
    "ax[4,0].set(xlabel='$L = 32.5$ cm')\n",
    "ax[4,1].set(xlabel='$L = 32.5$ cm')\n",
    "for j in range(5): ax[j,0].set(ylabel=f'{2*j} min')\n",
    "plt.savefig('slow-time-series.png',dpi=500,bbox_inches='tight')"
   ]
  },
  {
   "cell_type": "markdown",
   "metadata": {},
   "source": [
    "# Geometric model of melting"
   ]
  },
  {
   "cell_type": "markdown",
   "metadata": {},
   "source": [
    "Plot the geometrically averaged melt rate as a function of aspect ratio for experimental averaged melt rates."
   ]
  },
  {
   "cell_type": "code",
   "execution_count": null,
   "metadata": {},
   "outputs": [],
   "source": [
    "D = 1\n",
    "Lmax = 50\n",
    "L = np.linspace(1,Lmax,101)\n",
    "W = L\n",
    "melt_rates = averages\n",
    "A = 2*(L+W)*D + L*W\n",
    "dVdt = {}\n",
    "for U in melt_rates:\n",
    "    vf, vr, vs, vb = [melt_rates[U][face] for face in ['uf','ub','v','w']]\n",
    "    dVdt[U] = ((vf+vr)*W*D + 2*vs*L*D + vb*L*W)/A"
   ]
  },
  {
   "cell_type": "code",
   "execution_count": null,
   "metadata": {},
   "outputs": [],
   "source": [
    "colors = {0:'C0',1.5:'C2',3.5:'C3'}\n",
    "fig, ax = plt.subplots(figsize=(5,3))\n",
    "for U in [3.5,1.5,0]:\n",
    "    ax.plot(L, dVdt[U], label=f'$U = {U:.1f}$ cm s$^{{-1}}$', color=colors[U])\n",
    "    ax.plot(L, np.ones_like(L)*melt_rates[U]['w'],'--',color=colors[U],zorder=-1)\n",
    "ax.annotate('$v_b = 0.13$ cm min$^{-1}$',(.6,.44),xycoords='axes fraction',color=colors[3.5])\n",
    "ax.annotate('$v_b = 0.080$ cm min$^{-1}$',(.6,.22),xycoords='axes fraction',color=colors[1.5])\n",
    "ax.annotate('$v_b = 0.077$ cm min$^{-1}$',(.6,.13),xycoords='axes fraction',color=colors[0])\n",
    "ax.set(xlim=[0,Lmax],ylim=[0,0.25],xlabel='Aspect ratio $L/D = W/D$',\n",
    "       ylabel='Melt rate $v_{av}$ cm min$^{-1}$',\n",
    "       title='Geometrically averaged melt rate $v_a$ cm min$^{-1}$')\n",
    "ax.legend(framealpha=1,frameon=False)\n",
    "plt.savefig('geometrically-averaged-melt-rate.pdf',bbox_inches='tight')"
   ]
  },
  {
   "cell_type": "code",
   "execution_count": null,
   "metadata": {},
   "outputs": [],
   "source": [
    "\n",
    "\n",
    "\n",
    "\n",
    "\n",
    "\n",
    "\n",
    "\n",
    "\n",
    "\n",
    "\n",
    "\n",
    "\n",
    "\n",
    "\n",
    "\n",
    "\n",
    "\n",
    "\n"
   ]
  }
 ],
 "metadata": {
  "kernelspec": {
   "display_name": "Python 3",
   "language": "python",
   "name": "python3"
  },
  "language_info": {
   "codemirror_mode": {
    "name": "ipython",
    "version": 3
   },
   "file_extension": ".py",
   "mimetype": "text/x-python",
   "name": "python",
   "nbconvert_exporter": "python",
   "pygments_lexer": "ipython3",
   "version": "3.7.3"
  },
  "toc": {
   "base_numbering": 1,
   "nav_menu": {},
   "number_sections": true,
   "sideBar": true,
   "skip_h1_title": false,
   "title_cell": "Table of Contents",
   "title_sidebar": "Contents",
   "toc_cell": false,
   "toc_position": {},
   "toc_section_display": true,
   "toc_window_display": false
  },
  "varInspector": {
   "cols": {
    "lenName": 16,
    "lenType": 16,
    "lenVar": 40
   },
   "kernels_config": {
    "python": {
     "delete_cmd_postfix": "",
     "delete_cmd_prefix": "del ",
     "library": "var_list.py",
     "varRefreshCmd": "print(var_dic_list())"
    },
    "r": {
     "delete_cmd_postfix": ") ",
     "delete_cmd_prefix": "rm(",
     "library": "var_list.r",
     "varRefreshCmd": "cat(var_dic_list()) "
    }
   },
   "types_to_exclude": [
    "module",
    "function",
    "builtin_function_or_method",
    "instance",
    "_Feature"
   ],
   "window_display": false
  }
 },
 "nbformat": 4,
 "nbformat_minor": 2
}
